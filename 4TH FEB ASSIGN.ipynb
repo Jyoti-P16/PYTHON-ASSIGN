{
 "cells": [
  {
   "cell_type": "code",
   "execution_count": 2,
   "id": "5a402ccb-c6de-46bb-8d16-dadd7e8549f5",
   "metadata": {},
   "outputs": [
    {
     "name": "stdout",
     "output_type": "stream",
     "text": [
      "[('Sachin Tendulkar', 34357), ('Ricky Ponting', 27483), ('Jack Kallis', 25534), ('Virat Kohli', 24936)]\n"
     ]
    }
   ],
   "source": [
    "players = [('Sachin Tendulkar', 34357), ('Ricky Ponting', 27483), ('Jack Kallis', 25534), ('Virat Kohli', 24936)]\n",
    "\n",
    "sorted_players = sorted(players, key=lambda x: x[1], reverse=True)\n",
    "\n",
    "print(sorted_players)\n"
   ]
  },
  {
   "cell_type": "code",
   "execution_count": 16,
   "id": "0a0b2bb7-f0b3-432a-b516-f0791cd209a7",
   "metadata": {},
   "outputs": [
    {
     "data": {
      "text/plain": [
       "'QUESTION 2'"
      ]
     },
     "execution_count": 16,
     "metadata": {},
     "output_type": "execute_result"
    }
   ],
   "source": [
    "'''QUESTION 2'''"
   ]
  },
  {
   "cell_type": "code",
   "execution_count": 1,
   "id": "253457d9-a58e-4c79-8678-222155019b6a",
   "metadata": {},
   "outputs": [
    {
     "data": {
      "text/plain": [
       "[1, 4, 9, 16, 25, 36, 49, 64, 81, 100]"
      ]
     },
     "execution_count": 1,
     "metadata": {},
     "output_type": "execute_result"
    }
   ],
   "source": [
    "l =[1, 2, 3, 4, 5, 6, 7, 8, 9, 10]\n",
    "list(map(lambda x: x**2 , l))"
   ]
  },
  {
   "cell_type": "code",
   "execution_count": 15,
   "id": "11a625d5-d62e-4210-b00f-e90b85004258",
   "metadata": {},
   "outputs": [
    {
     "data": {
      "text/plain": [
       "'QUESTION 3'"
      ]
     },
     "execution_count": 15,
     "metadata": {},
     "output_type": "execute_result"
    }
   ],
   "source": [
    "'''QUESTION 3'''"
   ]
  },
  {
   "cell_type": "code",
   "execution_count": 2,
   "id": "18e83a0e-51bf-4d7e-85e7-f205d77456f3",
   "metadata": {},
   "outputs": [
    {
     "data": {
      "text/plain": [
       "('1', '2', '3', '4', '5', '6', '7', '8', '9', '10')"
      ]
     },
     "execution_count": 2,
     "metadata": {},
     "output_type": "execute_result"
    }
   ],
   "source": [
    "string = [1,2,3,4,5,6,7,8,9,10]\n",
    "tuple(map(lambda x : str(x) , string))\n",
    "#Q3. Write a python program to convert the given list of integers into a tuple of strings. Use map and\n",
    "#lambda functions\n",
    "#Given String: [1, 2, 3, 4, 5, 6, 7, 8, 9, 10]\n",
    "#Expected output: ('1', '2', '3', '4', '5', '6', '7', '8', '9', '10')"
   ]
  },
  {
   "cell_type": "code",
   "execution_count": 14,
   "id": "f4afb9b7-7a93-4c56-b8f8-d3a83100f2cd",
   "metadata": {},
   "outputs": [
    {
     "data": {
      "text/plain": [
       "'QUESTION 4'"
      ]
     },
     "execution_count": 14,
     "metadata": {},
     "output_type": "execute_result"
    }
   ],
   "source": [
    "'''QUESTION 4'''"
   ]
  },
  {
   "cell_type": "code",
   "execution_count": 3,
   "id": "607119df-42f4-4ed4-b111-0565b7fba18a",
   "metadata": {},
   "outputs": [],
   "source": [
    "from functools import reduce"
   ]
  },
  {
   "cell_type": "code",
   "execution_count": 5,
   "id": "9085f61c-4b35-4ee4-b772-1ba0c04f14b0",
   "metadata": {},
   "outputs": [
    {
     "data": {
      "text/plain": [
       "15511210043330985984000000"
      ]
     },
     "execution_count": 5,
     "metadata": {},
     "output_type": "execute_result"
    }
   ],
   "source": [
    "l = list(range(1,26))\n",
    "reduce(lambda x,y :x*y , l)"
   ]
  },
  {
   "cell_type": "code",
   "execution_count": 13,
   "id": "6b6193c3-885b-4edb-b17a-d78f36e94a0b",
   "metadata": {},
   "outputs": [
    {
     "data": {
      "text/plain": [
       "'QUESTION 5'"
      ]
     },
     "execution_count": 13,
     "metadata": {},
     "output_type": "execute_result"
    }
   ],
   "source": [
    "'''QUESTION 5'''"
   ]
  },
  {
   "cell_type": "code",
   "execution_count": 6,
   "id": "8326f654-5432-4581-a270-f4a2a01984ac",
   "metadata": {},
   "outputs": [],
   "source": [
    "l = [2, 3, 6, 9, 27, 60, 90, 120, 55, 46]"
   ]
  },
  {
   "cell_type": "code",
   "execution_count": 9,
   "id": "c1830160-97fa-4dba-a85f-bcc6975fe1b9",
   "metadata": {},
   "outputs": [
    {
     "data": {
      "text/plain": [
       "[2, 3, 6, 9, 27, 60, 90, 120, 46]"
      ]
     },
     "execution_count": 9,
     "metadata": {},
     "output_type": "execute_result"
    }
   ],
   "source": [
    "list(filter(lambda x: x%2 == 0 or x%3==0 , l))"
   ]
  },
  {
   "cell_type": "code",
   "execution_count": 12,
   "id": "2bf22a3c-fb1f-47a3-9147-77d415731b48",
   "metadata": {},
   "outputs": [
    {
     "data": {
      "text/plain": [
       "'QUESTION 6'"
      ]
     },
     "execution_count": 12,
     "metadata": {},
     "output_type": "execute_result"
    }
   ],
   "source": [
    "'''QUESTION 6'''"
   ]
  },
  {
   "cell_type": "code",
   "execution_count": 10,
   "id": "d364bd03-fab5-43ba-99fd-07aa26967e54",
   "metadata": {},
   "outputs": [],
   "source": [
    "strings = ['python', 'php', 'aba', 'radar', 'level']"
   ]
  },
  {
   "cell_type": "code",
   "execution_count": 11,
   "id": "4f31d5c9-c2e8-4484-a110-290d72ac039c",
   "metadata": {},
   "outputs": [
    {
     "data": {
      "text/plain": [
       "['php', 'aba', 'radar', 'level']"
      ]
     },
     "execution_count": 11,
     "metadata": {},
     "output_type": "execute_result"
    }
   ],
   "source": [
    "list(filter(lambda x: x == x[::-1], strings))"
   ]
  },
  {
   "cell_type": "code",
   "execution_count": null,
   "id": "05d1075c-aa05-483a-82a7-81f476ea8ea8",
   "metadata": {},
   "outputs": [],
   "source": []
  }
 ],
 "metadata": {
  "kernelspec": {
   "display_name": "Python 3 (ipykernel)",
   "language": "python",
   "name": "python3"
  },
  "language_info": {
   "codemirror_mode": {
    "name": "ipython",
    "version": 3
   },
   "file_extension": ".py",
   "mimetype": "text/x-python",
   "name": "python",
   "nbconvert_exporter": "python",
   "pygments_lexer": "ipython3",
   "version": "3.10.8"
  }
 },
 "nbformat": 4,
 "nbformat_minor": 5
}
