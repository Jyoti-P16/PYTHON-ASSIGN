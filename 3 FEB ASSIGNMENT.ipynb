{
 "cells": [
  {
   "cell_type": "code",
   "execution_count": 31,
   "id": "da52d642-3a48-49c3-9502-3fcfa5d76b1f",
   "metadata": {},
   "outputs": [
    {
     "data": {
      "text/plain": [
       "'QUESTION 1'"
      ]
     },
     "execution_count": 31,
     "metadata": {},
     "output_type": "execute_result"
    }
   ],
   "source": [
    "\"QUESTION 1\""
   ]
  },
  {
   "cell_type": "code",
   "execution_count": 1,
   "id": "6088c5a8-ad21-4302-a1ec-422590ad9e36",
   "metadata": {},
   "outputs": [
    {
     "data": {
      "text/plain": [
       "'DEF key word is used to define a function'"
      ]
     },
     "execution_count": 1,
     "metadata": {},
     "output_type": "execute_result"
    }
   ],
   "source": [
    "'''DEF key word is used to define a function'''"
   ]
  },
  {
   "cell_type": "code",
   "execution_count": 2,
   "id": "b112b196-1488-4445-a2cf-780383592b1c",
   "metadata": {},
   "outputs": [
    {
     "name": "stdout",
     "output_type": "stream",
     "text": [
      "[1, 3, 5, 7, 9, 11, 13, 15, 17, 19, 21, 23, 25]\n"
     ]
    }
   ],
   "source": [
    "def test1():\n",
    "    odd_nums = []\n",
    "    for i in range(1,26) :\n",
    "        if i % 2 != 0 :\n",
    "            odd_nums.append(i)\n",
    "    return odd_nums\n",
    "print(test1())"
   ]
  },
  {
   "cell_type": "code",
   "execution_count": 33,
   "id": "297af2bf-cbc8-4882-b748-5db4d639b8b1",
   "metadata": {},
   "outputs": [
    {
     "data": {
      "text/plain": [
       "'QUESTION 2'"
      ]
     },
     "execution_count": 33,
     "metadata": {},
     "output_type": "execute_result"
    }
   ],
   "source": [
    "\"QUESTION 2\""
   ]
  },
  {
   "cell_type": "code",
   "execution_count": 4,
   "id": "b76b8779-25ea-40b3-9aa3-78fa2f9c811a",
   "metadata": {},
   "outputs": [
    {
     "data": {
      "text/plain": [
       "'we use \"*args to pass n number of argument ehich eill create a tuple of all aruments in output'"
      ]
     },
     "execution_count": 4,
     "metadata": {},
     "output_type": "execute_result"
    }
   ],
   "source": [
    "'''we use \"*args to pass n number of argument ehich eill create a tuple of all aruments in output'''"
   ]
  },
  {
   "cell_type": "code",
   "execution_count": 5,
   "id": "c908c4ea-dd2c-4c52-99c8-400e083703db",
   "metadata": {},
   "outputs": [
    {
     "data": {
      "text/plain": [
       "'We use \"**kwargs\" to pass variable number of keyword arguments to a python function and it gives DICTIONARY IN OUTPUT'"
      ]
     },
     "execution_count": 5,
     "metadata": {},
     "output_type": "execute_result"
    }
   ],
   "source": [
    "'''We use \"**kwargs\" to pass variable number of keyword arguments to a python function and it gives DICTIONARY IN OUTPUT'''"
   ]
  },
  {
   "cell_type": "code",
   "execution_count": 6,
   "id": "93db859d-c454-40ae-9de7-a7f5ff0b3970",
   "metadata": {},
   "outputs": [],
   "source": [
    "def test2(*args) :\n",
    "    return args"
   ]
  },
  {
   "cell_type": "code",
   "execution_count": 7,
   "id": "7d1365a2-89e3-4363-bf85-4e31fb89f10d",
   "metadata": {},
   "outputs": [
    {
     "data": {
      "text/plain": [
       "(1, 2, 3, 4, 5, 6)"
      ]
     },
     "execution_count": 7,
     "metadata": {},
     "output_type": "execute_result"
    }
   ],
   "source": [
    "test2(1,2,3,4,5,6)"
   ]
  },
  {
   "cell_type": "code",
   "execution_count": 2,
   "id": "3d8b0983-7ca8-4663-ae59-eba00c3f37d6",
   "metadata": {},
   "outputs": [],
   "source": [
    "def test4(**kwargs) :\n",
    "    return kwargs"
   ]
  },
  {
   "cell_type": "code",
   "execution_count": 3,
   "id": "f9977888-becd-403b-b63b-ac45e982cd1f",
   "metadata": {},
   "outputs": [
    {
     "data": {
      "text/plain": [
       "{'a': 4, 'b': 'sudh', 'c': 36.5}"
      ]
     },
     "execution_count": 3,
     "metadata": {},
     "output_type": "execute_result"
    }
   ],
   "source": [
    "test4(a = 4, b = \"sudh\" , c = 36.5)"
   ]
  },
  {
   "cell_type": "code",
   "execution_count": 32,
   "id": "a6cf2845-e8c6-47da-a549-4e3e2825a2f6",
   "metadata": {},
   "outputs": [
    {
     "data": {
      "text/plain": [
       "'HERE a , b, c act a key values and it formed a dictionary'"
      ]
     },
     "execution_count": 32,
     "metadata": {},
     "output_type": "execute_result"
    }
   ],
   "source": [
    "\"HERE a , b, c act a key values and it formed a dictionary\""
   ]
  },
  {
   "cell_type": "code",
   "execution_count": 35,
   "id": "fba068c4-6286-43b9-95cb-f76330744b1d",
   "metadata": {},
   "outputs": [
    {
     "data": {
      "text/plain": [
       "'QUESTION 4'"
      ]
     },
     "execution_count": 35,
     "metadata": {},
     "output_type": "execute_result"
    }
   ],
   "source": [
    "'''QUESTION 3'''"
   ]
  },
  {
   "cell_type": "code",
   "execution_count": 4,
   "id": "c7add616-8188-4983-b588-535fcc0aa62b",
   "metadata": {},
   "outputs": [
    {
     "data": {
      "text/plain": [
       "\"In Python, an iterator is an object that implements the iterator protocol, which consists of the __iter__() and __next__() methods. The __iter__() method returns the iterator object itself, and the __next__() method returns the next value from the iterable.\\n\\nTo initialize an iterator object, we can use the iter() method. To iterate over the elements of the iterator, we can use a loop or the next() method until the iterator raises the StopIteration exception.\\n\\nHere's how we can use these methods to print the first five elements of the given list:\""
      ]
     },
     "execution_count": 4,
     "metadata": {},
     "output_type": "execute_result"
    }
   ],
   "source": [
    "'''In Python, an iterator is an object that implements the iterator protocol, which consists of the __iter__() and __next__() methods. The __iter__() method returns the iterator object itself, and the __next__() method returns the next value from the iterable.\n",
    "\n",
    "To initialize an iterator object, we can use the iter() method. To iterate over the elements of the iterator, we can use a loop or the next() method until the iterator raises the StopIteration exception.\n",
    "\n",
    "Here's how we can use these methods to print the first five elements of the given list:'''"
   ]
  },
  {
   "cell_type": "code",
   "execution_count": 5,
   "id": "bd2bdc64-8541-422a-ab60-0637dbb77349",
   "metadata": {},
   "outputs": [
    {
     "data": {
      "text/plain": [
       "'to iterate over the first five element'"
      ]
     },
     "execution_count": 5,
     "metadata": {},
     "output_type": "execute_result"
    }
   ],
   "source": [
    "\"to iterate over the first five element\""
   ]
  },
  {
   "cell_type": "code",
   "execution_count": null,
   "id": "e2afdd81-d2f7-4542-858f-bdb57ceb2801",
   "metadata": {},
   "outputs": [],
   "source": []
  },
  {
   "cell_type": "code",
   "execution_count": 8,
   "id": "5faccd75-cdcb-4337-9ed2-b5d14279dac7",
   "metadata": {},
   "outputs": [
    {
     "name": "stdout",
     "output_type": "stream",
     "text": [
      "2\n",
      "4\n",
      "6\n",
      "8\n",
      "10\n"
     ]
    }
   ],
   "source": [
    "list = [2,4,6,8,10,12,14,16,18,20]\n",
    "iter_list = iter(list) #initialized the iterator object\n",
    "\n",
    "for i in range(5) :#iterate or run loop over first five elemnt of the list \n",
    "    print(next(iter_list))"
   ]
  },
  {
   "cell_type": "code",
   "execution_count": 37,
   "id": "e355cd29-0bb1-477c-81d7-9c3afaa35b03",
   "metadata": {},
   "outputs": [
    {
     "data": {
      "text/plain": [
       "'QUESTION 4'"
      ]
     },
     "execution_count": 37,
     "metadata": {},
     "output_type": "execute_result"
    }
   ],
   "source": [
    "\"QUESTION 4\""
   ]
  },
  {
   "cell_type": "code",
   "execution_count": 9,
   "id": "2027f628-0296-4640-8efc-a0f4bf6d7e95",
   "metadata": {
    "tags": []
   },
   "outputs": [
    {
     "data": {
      "text/plain": [
       "'n Python, a generator function is a special kind of function that returns an iterator object. Instead of returning a single value and exiting, a generator function can generate a sequence of values using the yield keyword. When a generator function is called, it returns a generator object that can be iterated over using a loop or the next() method'"
      ]
     },
     "execution_count": 9,
     "metadata": {},
     "output_type": "execute_result"
    }
   ],
   "source": [
    "'''n Python, a generator function is a special kind of function that returns an iterator object. Instead of returning a single value and exiting, a generator function can generate a sequence of values using the yield keyword. When a generator function is called, it returns a generator object that can be iterated over using a loop or the next() method'''"
   ]
  },
  {
   "cell_type": "code",
   "execution_count": 10,
   "id": "a338fa27-d84d-4f95-b7b4-be2da1a0657e",
   "metadata": {},
   "outputs": [
    {
     "data": {
      "text/plain": [
       "'The yield keyword is used to temporarily suspend the execution of a generator function and return a value to the caller. When the next value is requested by the caller, the generator function resumes execution from where it left off and continues generating values until it reaches the end of the function or encounters a return statement.'"
      ]
     },
     "execution_count": 10,
     "metadata": {},
     "output_type": "execute_result"
    }
   ],
   "source": [
    "'''The yield keyword is used to temporarily suspend the execution of a generator function and return a value to the caller. When the next value is requested by the caller, the generator function resumes execution from where it left off and continues generating values until it reaches the end of the function or encounters a return statement.'''"
   ]
  },
  {
   "cell_type": "code",
   "execution_count": 15,
   "id": "340701d9-5565-4b2c-bc42-5b39edf4c626",
   "metadata": {},
   "outputs": [],
   "source": [
    "def fib(n) :\n",
    "    a,b = 0,1\n",
    "    for i in range(n) :\n",
    "        yield a\n",
    "        a , b = b , a+b\n",
    "        \n",
    "    "
   ]
  },
  {
   "cell_type": "code",
   "execution_count": 16,
   "id": "aa88b8c9-75d7-45f7-acd7-37702aba5da6",
   "metadata": {},
   "outputs": [
    {
     "name": "stdout",
     "output_type": "stream",
     "text": [
      "0\n",
      "1\n",
      "1\n",
      "2\n",
      "3\n",
      "5\n",
      "8\n",
      "13\n",
      "21\n",
      "34\n"
     ]
    }
   ],
   "source": [
    "for i in fib(10):\n",
    "    print(i)"
   ]
  },
  {
   "cell_type": "code",
   "execution_count": 38,
   "id": "f0ae9c2c-2479-4aba-9b7b-c85f0ea1583d",
   "metadata": {},
   "outputs": [
    {
     "data": {
      "text/plain": [
       "'QUESTION 5'"
      ]
     },
     "execution_count": 38,
     "metadata": {},
     "output_type": "execute_result"
    }
   ],
   "source": [
    "\"QUESTION 5\""
   ]
  },
  {
   "cell_type": "code",
   "execution_count": 17,
   "id": "da570622-2666-4a7a-bf70-8152b20ab2e2",
   "metadata": {},
   "outputs": [
    {
     "data": {
      "text/plain": [
       "'PRIME NUMBERS '"
      ]
     },
     "execution_count": 17,
     "metadata": {},
     "output_type": "execute_result"
    }
   ],
   "source": [
    "'''PRIME NUMBERS '''"
   ]
  },
  {
   "cell_type": "code",
   "execution_count": 18,
   "id": "a00ba106-9aca-49af-ad68-dfc523d4fec2",
   "metadata": {},
   "outputs": [],
   "source": [
    "def primes():\n",
    "    yield 2\n",
    "    sieve = [True] * 1000\n",
    "    for i in range(3, 1000, 2):\n",
    "        if sieve[i]:\n",
    "            yield i\n",
    "            for j in range(i * i, 1000, 2 * i):\n",
    "                sieve[j] = False\n"
   ]
  },
  {
   "cell_type": "code",
   "execution_count": 19,
   "id": "e4241b61-3872-4914-a2cf-a44e73b55d21",
   "metadata": {},
   "outputs": [
    {
     "name": "stdout",
     "output_type": "stream",
     "text": [
      "2\n",
      "3\n",
      "5\n",
      "7\n",
      "11\n",
      "13\n",
      "17\n",
      "19\n",
      "23\n",
      "29\n",
      "31\n",
      "37\n",
      "41\n",
      "43\n",
      "47\n",
      "53\n",
      "59\n",
      "61\n",
      "67\n",
      "71\n"
     ]
    }
   ],
   "source": [
    "prime_gen = primes()\n",
    "for i in range(20):\n",
    "    print(next(prime_gen))\n"
   ]
  },
  {
   "cell_type": "code",
   "execution_count": 39,
   "id": "a5311b17-47d2-474d-bcc7-e3b7663b7dd4",
   "metadata": {},
   "outputs": [
    {
     "data": {
      "text/plain": [
       "'QUESTION 6'"
      ]
     },
     "execution_count": 39,
     "metadata": {},
     "output_type": "execute_result"
    }
   ],
   "source": [
    "\"QUESTION 6\""
   ]
  },
  {
   "cell_type": "code",
   "execution_count": 20,
   "id": "0cfeaa5d-812a-41d0-95e4-ef83607fa53a",
   "metadata": {},
   "outputs": [],
   "source": [
    "def fib() :\n",
    "    a , b = 0 ,1\n",
    "    while True:\n",
    "        yield a\n",
    "        a , b = b, a+b\n",
    "        "
   ]
  },
  {
   "cell_type": "code",
   "execution_count": 23,
   "id": "4329bbe5-13cf-43c9-b284-1e09d2bf492f",
   "metadata": {},
   "outputs": [
    {
     "name": "stdout",
     "output_type": "stream",
     "text": [
      "0\n",
      "1\n",
      "1\n",
      "2\n",
      "3\n",
      "5\n",
      "8\n",
      "13\n",
      "21\n",
      "34\n"
     ]
    }
   ],
   "source": [
    "fibonnaci = fib()\n",
    "for i in range(10) :\n",
    "    print(next(fibonnaci))"
   ]
  },
  {
   "cell_type": "code",
   "execution_count": 30,
   "id": "625a8495-ba7c-4db2-8081-4e9fe83b4369",
   "metadata": {},
   "outputs": [
    {
     "data": {
      "text/plain": [
       "'QUESTION 7'"
      ]
     },
     "execution_count": 30,
     "metadata": {},
     "output_type": "execute_result"
    }
   ],
   "source": [
    "\"QUESTION 7\""
   ]
  },
  {
   "cell_type": "code",
   "execution_count": 24,
   "id": "3fb6523a-9a03-41ea-b5d6-959a11f9f07e",
   "metadata": {},
   "outputs": [
    {
     "data": {
      "text/plain": [
       "['p', 'w', 's', 'k', 'i', 'l', 'l', 's']"
      ]
     },
     "execution_count": 24,
     "metadata": {},
     "output_type": "execute_result"
    }
   ],
   "source": [
    "l = \"pwskills\"\n",
    "[i for i in l]"
   ]
  },
  {
   "cell_type": "code",
   "execution_count": 29,
   "id": "01e1173e-5c9c-4428-a7d4-be087ba3ba84",
   "metadata": {},
   "outputs": [
    {
     "data": {
      "text/plain": [
       "'QUESTION 8'"
      ]
     },
     "execution_count": 29,
     "metadata": {},
     "output_type": "execute_result"
    }
   ],
   "source": [
    "\"QUESTION 8\""
   ]
  },
  {
   "cell_type": "code",
   "execution_count": 25,
   "id": "0dc283a8-65c5-4bb2-9f8e-8753f9502787",
   "metadata": {},
   "outputs": [
    {
     "name": "stdin",
     "output_type": "stream",
     "text": [
      "Enter a number:  10\n"
     ]
    },
    {
     "name": "stdout",
     "output_type": "stream",
     "text": [
      "10 is not a palindrome\n"
     ]
    }
   ],
   "source": [
    "num = int(input(\"Enter a number: \"))\n",
    "\n",
    "temp = num\n",
    "rev_num = 0\n",
    "\n",
    "while temp > 0:\n",
    "    digit = temp % 10\n",
    "    rev_num = rev_num * 10 + digit\n",
    "    temp = temp // 10\n",
    "\n",
    "if num == rev_num:\n",
    "    print(num, \"is a palindrome\")\n",
    "else:\n",
    "    print(num, \"is not a palindrome\")\n"
   ]
  },
  {
   "cell_type": "code",
   "execution_count": 28,
   "id": "c5b13f9c-4b3e-49da-b84b-6b63dbe3df29",
   "metadata": {},
   "outputs": [
    {
     "data": {
      "text/plain": [
       "'QUESTION 9'"
      ]
     },
     "execution_count": 28,
     "metadata": {},
     "output_type": "execute_result"
    }
   ],
   "source": [
    "\"QUESTION 9\""
   ]
  },
  {
   "cell_type": "code",
   "execution_count": 27,
   "id": "c101a6e3-dd4c-4708-8e69-6bb59657b093",
   "metadata": {},
   "outputs": [
    {
     "data": {
      "text/plain": [
       "[1,\n",
       " 3,\n",
       " 5,\n",
       " 7,\n",
       " 9,\n",
       " 11,\n",
       " 13,\n",
       " 15,\n",
       " 17,\n",
       " 19,\n",
       " 21,\n",
       " 23,\n",
       " 25,\n",
       " 27,\n",
       " 29,\n",
       " 31,\n",
       " 33,\n",
       " 35,\n",
       " 37,\n",
       " 39,\n",
       " 41,\n",
       " 43,\n",
       " 45,\n",
       " 47,\n",
       " 49,\n",
       " 51,\n",
       " 53,\n",
       " 55,\n",
       " 57,\n",
       " 59,\n",
       " 61,\n",
       " 63,\n",
       " 65,\n",
       " 67,\n",
       " 69,\n",
       " 71,\n",
       " 73,\n",
       " 75,\n",
       " 77,\n",
       " 79,\n",
       " 81,\n",
       " 83,\n",
       " 85,\n",
       " 87,\n",
       " 89,\n",
       " 91,\n",
       " 93,\n",
       " 95,\n",
       " 97,\n",
       " 99]"
      ]
     },
     "execution_count": 27,
     "metadata": {},
     "output_type": "execute_result"
    }
   ],
   "source": [
    "[i for i in range(101) if i%2 != 0]"
   ]
  },
  {
   "cell_type": "code",
   "execution_count": null,
   "id": "588fc891-4a56-40c4-aaca-c0791bd677cb",
   "metadata": {},
   "outputs": [],
   "source": []
  }
 ],
 "metadata": {
  "kernelspec": {
   "display_name": "Python 3 (ipykernel)",
   "language": "python",
   "name": "python3"
  },
  "language_info": {
   "codemirror_mode": {
    "name": "ipython",
    "version": 3
   },
   "file_extension": ".py",
   "mimetype": "text/x-python",
   "name": "python",
   "nbconvert_exporter": "python",
   "pygments_lexer": "ipython3",
   "version": "3.10.8"
  }
 },
 "nbformat": 4,
 "nbformat_minor": 5
}
