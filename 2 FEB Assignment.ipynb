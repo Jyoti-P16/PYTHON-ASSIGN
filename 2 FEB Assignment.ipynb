{
 "cells": [
  {
   "cell_type": "code",
   "execution_count": 1,
   "id": "848f1afd-3cb2-4197-9811-00d4ea80e2b9",
   "metadata": {},
   "outputs": [
    {
     "data": {
      "text/plain": [
       "'QUESTION 1'"
      ]
     },
     "execution_count": 1,
     "metadata": {},
     "output_type": "execute_result"
    }
   ],
   "source": [
    "\"QUESTION 1\""
   ]
  },
  {
   "cell_type": "code",
   "execution_count": 8,
   "id": "6567b7db-f150-4d2d-87e3-2bf50efc170e",
   "metadata": {},
   "outputs": [
    {
     "data": {
      "text/plain": [
       "'Use a for loop when you know the loop should execute n times. Use a while loop for reading a file into a variable. Use a while loop when asking for user input. Use a while loop when the increment value is nonstandard.'"
      ]
     },
     "execution_count": 8,
     "metadata": {},
     "output_type": "execute_result"
    }
   ],
   "source": [
    "'''Use a for loop when you know the loop should execute n times. Use a while loop for reading a file into a variable. Use a while loop when asking for user input. Use a while loop when the increment value is nonstandard.'''"
   ]
  },
  {
   "cell_type": "code",
   "execution_count": 3,
   "id": "c087f6cb-1296-4aa3-a83c-f7ed64300bb2",
   "metadata": {},
   "outputs": [
    {
     "data": {
      "text/plain": [
       "'QUESTION 2 '"
      ]
     },
     "execution_count": 3,
     "metadata": {},
     "output_type": "execute_result"
    }
   ],
   "source": [
    "\"QUESTION 2 \""
   ]
  },
  {
   "cell_type": "code",
   "execution_count": 18,
   "id": "c6b974d6-a27a-44e1-9e84-40fd7ae4a783",
   "metadata": {},
   "outputs": [
    {
     "name": "stdout",
     "output_type": "stream",
     "text": [
      "The sum is :  55\n",
      "Product is :  3628800\n"
     ]
    }
   ],
   "source": [
    "#USING FOR LOOP\n",
    "#sum\n",
    "sum = 0 \n",
    "for i in range(1,11) :\n",
    "    sum = sum + i\n",
    "print(\"The sum is : \" , sum)\n",
    "#product\n",
    "product = 1\n",
    "for i in range(1,11) :\n",
    "    product = product * i\n",
    "print(\"Product is : \" , product)\n",
    "\n"
   ]
  },
  {
   "cell_type": "code",
   "execution_count": 21,
   "id": "8f054375-01dd-445a-a6c1-cfda68763cbf",
   "metadata": {},
   "outputs": [
    {
     "name": "stdout",
     "output_type": "stream",
     "text": [
      "the sum is :  55\n",
      "The product is :  3628800\n"
     ]
    }
   ],
   "source": [
    "#USING WHILE LOOP\n",
    "\n",
    "sum = 0 \n",
    "i = 1\n",
    "while(i <= 10) :\n",
    "    sum += i\n",
    "    i += 1\n",
    "print(\"the sum is : \",sum)\n",
    "\n",
    "#PRODUCT \n",
    "product = 1\n",
    "i = 1\n",
    "while(i <= 10):\n",
    "    product = product * i\n",
    "    i += 1\n",
    "print(\"The product is : \" , product)\n",
    "    "
   ]
  },
  {
   "cell_type": "code",
   "execution_count": 18,
   "id": "419e9c70-b79c-4859-8e35-32f060bfc8ea",
   "metadata": {},
   "outputs": [
    {
     "data": {
      "text/plain": [
       "'QUESTION 3'"
      ]
     },
     "execution_count": 18,
     "metadata": {},
     "output_type": "execute_result"
    }
   ],
   "source": [
    "\"QUESTION 3\"\n"
   ]
  },
  {
   "cell_type": "code",
   "execution_count": 3,
   "id": "348a49ed-1aa8-4563-b9b4-346c68615ab9",
   "metadata": {},
   "outputs": [
    {
     "name": "stdin",
     "output_type": "stream",
     "text": [
      "Enter the number of units consumed:  310\n"
     ]
    },
    {
     "name": "stdout",
     "output_type": "stream",
     "text": [
      "Electricity Bill = Rs. 2250.0\n"
     ]
    }
   ],
   "source": [
    "units = float(input(\"Enter the number of units consumed: \"))\n",
    "\n",
    "if units <= 100:\n",
    "    charges = units * 4.5\n",
    "elif units <= 200:\n",
    "    charges = 100 * 4.5 + (units - 100) * 6\n",
    "elif units <= 300:\n",
    "    charges = 100 * 4.5 + 100 * 6 + (units - 200) * 10\n",
    "else:\n",
    "    charges = 100 * 4.5 + 100 * 6 + 100 * 10 + (units - 300) * 20\n",
    "\n",
    "print(\"Electricity Bill = Rs.\", charges)\n"
   ]
  },
  {
   "cell_type": "code",
   "execution_count": 19,
   "id": "2a8a797c-751f-41eb-b0d1-3be51ef29b78",
   "metadata": {},
   "outputs": [
    {
     "data": {
      "text/plain": [
       "'QUESTION 4'"
      ]
     },
     "execution_count": 19,
     "metadata": {},
     "output_type": "execute_result"
    }
   ],
   "source": [
    "'''QUESTION 4'''"
   ]
  },
  {
   "cell_type": "code",
   "execution_count": 4,
   "id": "0cb4ed0e-15ff-4cfc-9fed-c90d4fbcd0c4",
   "metadata": {},
   "outputs": [
    {
     "name": "stdout",
     "output_type": "stream",
     "text": [
      "[2, 4, 5, 6, 8, 10, 12, 14, 15, 16, 18, 20, 22, 24, 25, 26, 28, 30, 32, 34, 35, 36, 38, 40, 42, 44, 45, 46, 48, 50, 52, 54, 55, 56, 58, 60, 62, 64, 65, 66, 68, 70, 72, 74, 75, 76, 78, 80, 82, 84, 85, 86, 88, 90, 92, 94, 95, 96, 98, 100]\n"
     ]
    }
   ],
   "source": [
    "cube_list = []\n",
    "for i in range(1,101) :\n",
    "    cube = i ** 3\n",
    "    if cube % 4 == 0 or cube % 5 == 0 :\n",
    "        cube_list.append(i)\n",
    "print(cube_list)"
   ]
  },
  {
   "cell_type": "code",
   "execution_count": 6,
   "id": "6987519e-005f-4f43-a2cc-3d66b656adc0",
   "metadata": {},
   "outputs": [
    {
     "name": "stdout",
     "output_type": "stream",
     "text": [
      "[2, 4, 5, 6, 8, 10, 12, 14, 15, 16, 18, 20, 22, 24, 25, 26, 28, 30, 32, 34, 35, 36, 38, 40, 42, 44, 45, 46, 48, 50, 52, 54, 55, 56, 58, 60, 62, 64, 65, 66, 68, 70, 72, 74, 75, 76, 78, 80, 82, 84, 85, 86, 88, 90, 92, 94, 95, 96, 98, 100]\n"
     ]
    }
   ],
   "source": [
    "cube_list= []\n",
    "i = 1\n",
    "\n",
    "while i<= 100 :\n",
    "    cube = i **3\n",
    "    if cube % 4 == 0 or cube % 5 == 0 :\n",
    "            cube_list.append(i)\n",
    "    i += 1\n",
    "print(cube_list)"
   ]
  },
  {
   "cell_type": "code",
   "execution_count": 17,
   "id": "10cb1010-0aa0-4064-a965-185a180fd8a2",
   "metadata": {},
   "outputs": [
    {
     "data": {
      "text/plain": [
       "'QUESTION 5'"
      ]
     },
     "execution_count": 17,
     "metadata": {},
     "output_type": "execute_result"
    }
   ],
   "source": [
    "'''QUESTION 5'''"
   ]
  },
  {
   "cell_type": "code",
   "execution_count": 16,
   "id": "56653587-31e8-48a4-aa5e-9b77d16701c9",
   "metadata": {},
   "outputs": [
    {
     "name": "stdout",
     "output_type": "stream",
     "text": [
      "Number of vowels in the string: 12\n"
     ]
    }
   ],
   "source": [
    "string = \"I want to become a data scientist\"\n",
    "\n",
    "vowels = 'aeiouAEIOU'\n",
    "count = 0\n",
    "\n",
    "for char in string:\n",
    "    if char in vowels:\n",
    "        count += 1\n",
    "        \n",
    "print(\"Number of vowels in the string:\", count)"
   ]
  },
  {
   "cell_type": "code",
   "execution_count": null,
   "id": "14d90bc4-330c-4fb7-a144-9044b5050031",
   "metadata": {},
   "outputs": [],
   "source": []
  }
 ],
 "metadata": {
  "kernelspec": {
   "display_name": "Python 3 (ipykernel)",
   "language": "python",
   "name": "python3"
  },
  "language_info": {
   "codemirror_mode": {
    "name": "ipython",
    "version": 3
   },
   "file_extension": ".py",
   "mimetype": "text/x-python",
   "name": "python",
   "nbconvert_exporter": "python",
   "pygments_lexer": "ipython3",
   "version": "3.10.8"
  }
 },
 "nbformat": 4,
 "nbformat_minor": 5
}
