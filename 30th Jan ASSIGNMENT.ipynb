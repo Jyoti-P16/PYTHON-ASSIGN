{
 "cells": [
  {
   "cell_type": "code",
   "execution_count": 3,
   "id": "48aab544-c025-4e43-a418-72e615e8fa75",
   "metadata": {},
   "outputs": [
    {
     "name": "stdin",
     "output_type": "stream",
     "text": [
      "Enter Your Percentage :  95\n"
     ]
    },
    {
     "name": "stdout",
     "output_type": "stream",
     "text": [
      "A GRADE\n"
     ]
    }
   ],
   "source": [
    "per = int(input(\"Enter Your Percentage : \"))\n",
    "if per > 90 :\n",
    "    print(\"A GRADE\")\n",
    "elif per >80  and per <= 90 :\n",
    "    print(\"B GRADE\")\n",
    "elif per >= 60 and per <= 80 :\n",
    "    print(\"C GRADE\")\n",
    "else per < 60 :\n",
    "    print(\"D GRADE\")\n",
    "    \n",
    "    "
   ]
  },
  {
   "cell_type": "code",
   "execution_count": 4,
   "id": "b4f03e75-5159-4b3e-86e9-5655250c09aa",
   "metadata": {},
   "outputs": [
    {
     "name": "stdin",
     "output_type": "stream",
     "text": [
      "Enter the cost price of your bike 2897\n"
     ]
    },
    {
     "name": "stdout",
     "output_type": "stream",
     "text": [
      "5% Road Tax\n"
     ]
    }
   ],
   "source": [
    "cp = int(input(\"Enter the cost price of your bike\"))\n",
    "if cp > 100000 :\n",
    "    print(\"15% Road Tax\")\n",
    "elif cp > 50000 and cp < 100000 :\n",
    "    print(\"10% Road Tax\")\n",
    "else cp <= 50000 :\n",
    "    print(\"5% Road Tax\")"
   ]
  },
  {
   "cell_type": "code",
   "execution_count": 2,
   "id": "192e5c90-f0a6-4cce-9fb9-467a66f2fc41",
   "metadata": {},
   "outputs": [
    {
     "name": "stdin",
     "output_type": "stream",
     "text": [
      "Enter city Name hhjj\n"
     ]
    },
    {
     "name": "stdout",
     "output_type": "stream",
     "text": [
      "not available\n"
     ]
    }
   ],
   "source": [
    "city = str(input(\"Enter city Name\")) \n",
    "if city == \"Delhi\" :\n",
    "    print(\"RED FORT\")\n",
    "elif city == \"Agra\" :\n",
    "    print(\"TAJ MAHAL\")\n",
    "elif city == \"Jaipur\" :\n",
    "    print(\"JAL MAHAL\")\n",
    "else :\n",
    "    print(\"not available\")\n",
    "           "
   ]
  },
  {
   "cell_type": "code",
   "execution_count": 5,
   "id": "7ff69f35-7ee6-423e-81f1-03069157554a",
   "metadata": {},
   "outputs": [
    {
     "data": {
      "text/plain": [
       "'QUESTION 4 : MEANS DIVIDE A NUMBER WHICH IS MORE THAN TEN BY 3 UNTILL THE NUMBER BECOMES LESS THAN 10....HENCE WE CAN DIVIDE 12 BY 3 ONE TIME BCZ AFTER THAT 2 IS LESS THAN 3 '"
      ]
     },
     "execution_count": 5,
     "metadata": {},
     "output_type": "execute_result"
    }
   ],
   "source": [
    "\"QUESTION 4 : MEANS DIVIDE A NUMBER WHICH IS MORE THAN TEN BY 3 UNTILL THE NUMBER BECOMES LESS THAN 10....HENCE WE CAN DIVIDE 12 BY 3 ONE TIME BCZ AFTER THAT 2 IS LESS THAN 3 \""
   ]
  },
  {
   "cell_type": "code",
   "execution_count": 1,
   "id": "b720ff2c-778e-4c3d-be22-9f6ad1b988a7",
   "metadata": {},
   "outputs": [
    {
     "name": "stdin",
     "output_type": "stream",
     "text": [
      "Enter the number : 12\n"
     ]
    },
    {
     "data": {
      "text/plain": [
       "1"
      ]
     },
     "execution_count": 1,
     "metadata": {},
     "output_type": "execute_result"
    }
   ],
   "source": [
    "n = int(input(\"Enter the number :\"))\n",
    "count = 0\n",
    "\n",
    "while n >= 10 :\n",
    "    n = n/3\n",
    "    count = count + 1\n",
    "count"
   ]
  },
  {
   "cell_type": "code",
   "execution_count": 2,
   "id": "dc3b91f6-9985-498c-a43d-b985eb563c4f",
   "metadata": {},
   "outputs": [
    {
     "data": {
      "text/plain": [
       "'QUESTION : 5'"
      ]
     },
     "execution_count": 2,
     "metadata": {},
     "output_type": "execute_result"
    }
   ],
   "source": [
    "\"QUESTION : 5\"\n"
   ]
  },
  {
   "cell_type": "code",
   "execution_count": null,
   "id": "df54675c-8f03-414d-8393-0370ca517315",
   "metadata": {},
   "outputs": [],
   "source": [
    "\"With the while loop we can execute a set of statements as long as a condition is true. The while loop requires relevant variables to be ready\""
   ]
  },
  {
   "cell_type": "code",
   "execution_count": 4,
   "id": "ca017c86-cc7e-4fc6-a98e-bbc31b6bdb0a",
   "metadata": {},
   "outputs": [
    {
     "name": "stdout",
     "output_type": "stream",
     "text": [
      "1\n",
      "2\n",
      "3\n",
      "4\n",
      "5\n",
      "6\n",
      "7\n",
      "8\n",
      "9\n"
     ]
    }
   ],
   "source": [
    "i = 1\n",
    "while i < 10 :\n",
    "    print(i)\n",
    "    i = i+1"
   ]
  },
  {
   "cell_type": "code",
   "execution_count": 6,
   "id": "5f1d4329-57fd-4e6e-b6d7-767baff470fb",
   "metadata": {},
   "outputs": [
    {
     "data": {
      "text/plain": [
       "'QUESTION 6'"
      ]
     },
     "execution_count": 6,
     "metadata": {},
     "output_type": "execute_result"
    }
   ],
   "source": [
    "\"QUESTION 6\""
   ]
  },
  {
   "cell_type": "code",
   "execution_count": 7,
   "id": "ced86001-da51-4011-8e55-9b77844b8127",
   "metadata": {},
   "outputs": [
    {
     "name": "stdin",
     "output_type": "stream",
     "text": [
      "Enter the number of rows:  6\n"
     ]
    },
    {
     "name": "stdout",
     "output_type": "stream",
     "text": [
      "     1\n",
      "    121\n",
      "   12321\n",
      "  1234321\n",
      " 123454321\n",
      "12345654321\n"
     ]
    }
   ],
   "source": [
    "# 1 Number pattern\n",
    "\n",
    "num = int(input(\"Enter the number of rows: \"))\n",
    "\n",
    "current_row = 1\n",
    "\n",
    "while current_row <= num:\n",
    "    # print the spaces for the current row\n",
    "    print(\" \" * (num - current_row), end=\"\")\n",
    "    \n",
    "    # print the numbers for the current row\n",
    "    current_num = 1\n",
    "    while current_num <= current_row:\n",
    "        print(current_num, end=\"\")\n",
    "        current_num += 1\n",
    "        \n",
    "    # print the numbers in reverse order for the current row\n",
    "    current_num -= 2\n",
    "    while current_num >= 1:\n",
    "        print(current_num, end=\"\")\n",
    "        current_num -= 1\n",
    "        \n",
    "    # move to the next row\n",
    "    print()\n",
    "    current_row += 1"
   ]
  },
  {
   "cell_type": "code",
   "execution_count": 9,
   "id": "02629938-b1b2-4210-988d-140017eaf67b",
   "metadata": {},
   "outputs": [
    {
     "name": "stdin",
     "output_type": "stream",
     "text": [
      "Enter the number of rows 6\n"
     ]
    },
    {
     "name": "stdout",
     "output_type": "stream",
     "text": [
      "* \n",
      "* * \n",
      "* * * \n",
      "* * * * \n",
      "* * * * * \n",
      "* * * * * * \n"
     ]
    }
   ],
   "source": [
    "# 2\n",
    "n=int(input(\"Enter the number of rows\"))\n",
    "i=1\n",
    "while i<=n:\n",
    "    j=1\n",
    "    while j<=i:\n",
    "        print(\"*\",end=\" \")\n",
    "        j=j+1\n",
    "    print('')\n",
    "    i=i+1\n",
    "      "
   ]
  },
  {
   "cell_type": "code",
   "execution_count": 10,
   "id": "624c1b5e-83e8-4901-a418-8e3c3454d3e0",
   "metadata": {},
   "outputs": [
    {
     "name": "stdin",
     "output_type": "stream",
     "text": [
      "Enter number of rows :  8\n"
     ]
    },
    {
     "name": "stdout",
     "output_type": "stream",
     "text": [
      "* * * * * * * * \n",
      "* * * * * * * \n",
      "* * * * * * \n",
      "* * * * * \n",
      "* * * * \n",
      "* * * \n",
      "* * \n",
      "* \n"
     ]
    }
   ],
   "source": [
    "# 3\n",
    "n = int(input('Enter number of rows : '))\n",
    " \n",
    "i = 1\n",
    "while i <= n :\n",
    "    j = n\n",
    "    while j >= i:\n",
    "        print(\"*\", end = \" \")\n",
    "        j -= 1\n",
    "    print()\n",
    "    i += 1"
   ]
  },
  {
   "cell_type": "code",
   "execution_count": 2,
   "id": "0810693e-1cdc-463a-8703-b30ed2c4bfc3",
   "metadata": {},
   "outputs": [
    {
     "name": "stdout",
     "output_type": "stream",
     "text": [
      "10\n",
      "9\n",
      "8\n",
      "7\n",
      "6\n",
      "5\n",
      "4\n",
      "3\n",
      "2\n",
      "1\n"
     ]
    }
   ],
   "source": [
    "i = 10\n",
    "while i >= 1 : \n",
    "    print(i)\n",
    "    i = i -1\n",
    "    "
   ]
  },
  {
   "cell_type": "code",
   "execution_count": 3,
   "id": "252cbdad-0b8e-4fd5-94bc-5b5d664d96a2",
   "metadata": {},
   "outputs": [
    {
     "name": "stdout",
     "output_type": "stream",
     "text": [
      "10\n",
      "9\n",
      "8\n",
      "7\n",
      "6\n",
      "5\n",
      "4\n",
      "3\n",
      "2\n",
      "1\n"
     ]
    }
   ],
   "source": [
    "i=10\n",
    "while i>=1:\n",
    "    print(i)\n",
    "    i=i-1"
   ]
  },
  {
   "cell_type": "code",
   "execution_count": null,
   "id": "82aa8947-ed2c-4380-92f3-f2033a117638",
   "metadata": {},
   "outputs": [],
   "source": []
  }
 ],
 "metadata": {
  "kernelspec": {
   "display_name": "Python 3 (ipykernel)",
   "language": "python",
   "name": "python3"
  },
  "language_info": {
   "codemirror_mode": {
    "name": "ipython",
    "version": 3
   },
   "file_extension": ".py",
   "mimetype": "text/x-python",
   "name": "python",
   "nbconvert_exporter": "python",
   "pygments_lexer": "ipython3",
   "version": "3.10.8"
  }
 },
 "nbformat": 4,
 "nbformat_minor": 5
}
